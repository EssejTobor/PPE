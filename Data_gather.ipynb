{
 "cells": [
  {
   "cell_type": "code",
   "execution_count": null,
   "metadata": {},
   "outputs": [],
   "source": [
    "# import praw\n",
    "import pandas as pd\n",
    "import rpassword"
   ]
  },
  {
   "cell_type": "code",
   "execution_count": null,
   "metadata": {},
   "outputs": [],
   "source": [
    "'''reddit = praw.Reddit(client_id=\"CLIENT_ID\",\n",
    "    client_secret=\"CLIENT_SECRET\",\n",
    "    password=\"PASSWORD\",\n",
    "    user_agent=\"USERAGENT\",\n",
    "    username=\"USERNAME\",'''\n",
    "reddit = rpassword.get_reddit   # This is the password from reddit.py"
   ]
  },
  {
   "cell_type": "code",
   "execution_count": null,
   "metadata": {},
   "outputs": [],
   "source": [
    "\n",
    "for submission in reddit.subreddit(\"expo\").top(time_filter=\"year\", limit=3):\n",
    "    print(submission.title)\n",
    "    print(submission.url)\n",
    "    print(submission.score)\n",
    "    print(submission.id)\n",
    "    print(\"---------------------------------\")"
   ]
  },
  {
   "cell_type": "code",
   "execution_count": null,
   "metadata": {},
   "outputs": [],
   "source": [
    "import pprint\n",
    "submission = reddit.submission(\"qrcpkz\")\n",
    "print(submission.title)  # to make it non-lazy\n",
    "pprint.pprint(vars(submission))"
   ]
  },
  {
   "cell_type": "code",
   "execution_count": null,
   "metadata": {},
   "outputs": [],
   "source": [
    "\n",
    "for submission in reddit.subreddit(\"expo\").top(time_filter=\"year\", limit=10000):\n",
    "    if submission.num_comments > 2:\n",
    "        print(submission.title)\n",
    "        print(submission.url)\n",
    "        print(submission.score)\n",
    "        print(submission.id)\n",
    "        print(\"---------------------------------\")\n",
    "    "
   ]
  },
  {
   "cell_type": "code",
   "execution_count": null,
   "metadata": {},
   "outputs": [],
   "source": []
  },
  {
   "cell_type": "code",
   "execution_count": null,
   "metadata": {},
   "outputs": [],
   "source": []
  }
 ],
 "metadata": {
  "interpreter": {
   "hash": "d3e5f6d7c5e7a94446f74b6ee56e5ba3d6e43e1ccea5c36c5cc6fa45767816e3"
  },
  "kernelspec": {
   "display_name": "Python 3.10.4 ('.venvPPE': venv)",
   "language": "python",
   "name": "python3"
  },
  "language_info": {
   "codemirror_mode": {
    "name": "ipython",
    "version": 3
   },
   "file_extension": ".py",
   "mimetype": "text/x-python",
   "name": "python",
   "nbconvert_exporter": "python",
   "pygments_lexer": "ipython3",
   "version": "3.10.4"
  },
  "orig_nbformat": 4
 },
 "nbformat": 4,
 "nbformat_minor": 2
}
